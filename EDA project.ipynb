{
 "cells": [
  {
   "cell_type": "markdown",
   "id": "0b7dd083-878e-40bf-87e7-f499542edac8",
   "metadata": {},
   "source": [
    "# DATA UNDERSTANDING\n",
    "1.DataFrame shape\n",
    "\n",
    "2.Head and Tail\n",
    "\n",
    "3.Dtypes\n",
    "\n",
    "4.Describe"
   ]
  },
  {
   "cell_type": "code",
   "execution_count": 1,
   "id": "3e816752-cefd-4064-bf62-b6deb89f6434",
   "metadata": {},
   "outputs": [],
   "source": [
    "import numpy as np\n",
    "import pandas as pd\n",
    "import seaborn as sns\n",
    "import matplotlib.pyplot as plt\n",
    "import scipy.stats as stats\n",
    "from scipy.stats import chi2_contingency\n",
    "\n",
    "import warnings\n",
    "warnings.filterwarnings('ignore')"
   ]
  },
  {
   "cell_type": "code",
   "execution_count": 44,
   "id": "c794f4f6-7c86-4888-bdda-04a24008e9d8",
   "metadata": {},
   "outputs": [
    {
     "data": {
      "text/html": [
       "<div>\n",
       "<style scoped>\n",
       "    .dataframe tbody tr th:only-of-type {\n",
       "        vertical-align: middle;\n",
       "    }\n",
       "\n",
       "    .dataframe tbody tr th {\n",
       "        vertical-align: top;\n",
       "    }\n",
       "\n",
       "    .dataframe thead th {\n",
       "        text-align: right;\n",
       "    }\n",
       "</style>\n",
       "<table border=\"1\" class=\"dataframe\">\n",
       "  <thead>\n",
       "    <tr style=\"text-align: right;\">\n",
       "      <th></th>\n",
       "      <th>id</th>\n",
       "      <th>first_name</th>\n",
       "      <th>gender</th>\n",
       "      <th>birthday</th>\n",
       "      <th>Age</th>\n",
       "      <th>abonoment_type</th>\n",
       "      <th>visit_per_week</th>\n",
       "      <th>days_per_week</th>\n",
       "      <th>attend_group_lesson</th>\n",
       "      <th>fav_group_lesson</th>\n",
       "      <th>avg_time_check_in</th>\n",
       "      <th>avg_time_check_out</th>\n",
       "      <th>avg_time_in_gym</th>\n",
       "      <th>personal_training</th>\n",
       "      <th>name_personal_trainer</th>\n",
       "    </tr>\n",
       "  </thead>\n",
       "  <tbody>\n",
       "    <tr>\n",
       "      <th>0</th>\n",
       "      <td>1</td>\n",
       "      <td>Fey</td>\n",
       "      <td>Female</td>\n",
       "      <td>1997-04-18</td>\n",
       "      <td>27</td>\n",
       "      <td>Premium</td>\n",
       "      <td>4</td>\n",
       "      <td>Mon, Sat, Tue, Wed</td>\n",
       "      <td>True</td>\n",
       "      <td>Kickboxen</td>\n",
       "      <td>19:31:00</td>\n",
       "      <td>21:42:00</td>\n",
       "      <td>131</td>\n",
       "      <td>False</td>\n",
       "      <td>NaN</td>\n",
       "    </tr>\n",
       "    <tr>\n",
       "      <th>1</th>\n",
       "      <td>2</td>\n",
       "      <td>Doralin</td>\n",
       "      <td>Female</td>\n",
       "      <td>1977-09-18</td>\n",
       "      <td>47</td>\n",
       "      <td>Standard</td>\n",
       "      <td>3</td>\n",
       "      <td>Fri, Sat, Sun</td>\n",
       "      <td>False</td>\n",
       "      <td>NaN</td>\n",
       "      <td>19:31:00</td>\n",
       "      <td>21:43:00</td>\n",
       "      <td>132</td>\n",
       "      <td>True</td>\n",
       "      <td>Chantal</td>\n",
       "    </tr>\n",
       "    <tr>\n",
       "      <th>2</th>\n",
       "      <td>3</td>\n",
       "      <td>Linc</td>\n",
       "      <td>Male</td>\n",
       "      <td>1983-03-30</td>\n",
       "      <td>41</td>\n",
       "      <td>Premium</td>\n",
       "      <td>1</td>\n",
       "      <td>Sun</td>\n",
       "      <td>True</td>\n",
       "      <td>XCore, Spinning, LesMiles</td>\n",
       "      <td>08:29:00</td>\n",
       "      <td>09:55:00</td>\n",
       "      <td>86</td>\n",
       "      <td>True</td>\n",
       "      <td>Mike</td>\n",
       "    </tr>\n",
       "    <tr>\n",
       "      <th>3</th>\n",
       "      <td>4</td>\n",
       "      <td>Darren</td>\n",
       "      <td>Male</td>\n",
       "      <td>1980-04-12</td>\n",
       "      <td>44</td>\n",
       "      <td>Premium</td>\n",
       "      <td>3</td>\n",
       "      <td>Fri, Sat, Tue</td>\n",
       "      <td>False</td>\n",
       "      <td>NaN</td>\n",
       "      <td>09:54:00</td>\n",
       "      <td>12:15:00</td>\n",
       "      <td>141</td>\n",
       "      <td>True</td>\n",
       "      <td>Mike</td>\n",
       "    </tr>\n",
       "    <tr>\n",
       "      <th>4</th>\n",
       "      <td>5</td>\n",
       "      <td>Petr</td>\n",
       "      <td>Male</td>\n",
       "      <td>1980-09-10</td>\n",
       "      <td>44</td>\n",
       "      <td>Standard</td>\n",
       "      <td>2</td>\n",
       "      <td>Thu, Tue</td>\n",
       "      <td>True</td>\n",
       "      <td>Running, BodyBalance</td>\n",
       "      <td>08:29:00</td>\n",
       "      <td>10:39:00</td>\n",
       "      <td>130</td>\n",
       "      <td>True</td>\n",
       "      <td>Mike</td>\n",
       "    </tr>\n",
       "    <tr>\n",
       "      <th>5</th>\n",
       "      <td>6</td>\n",
       "      <td>Alvera</td>\n",
       "      <td>Female</td>\n",
       "      <td>2009-06-29</td>\n",
       "      <td>15</td>\n",
       "      <td>Standard</td>\n",
       "      <td>1</td>\n",
       "      <td>Tue</td>\n",
       "      <td>False</td>\n",
       "      <td>NaN</td>\n",
       "      <td>17:19:00</td>\n",
       "      <td>18:19:00</td>\n",
       "      <td>60</td>\n",
       "      <td>False</td>\n",
       "      <td>NaN</td>\n",
       "    </tr>\n",
       "    <tr>\n",
       "      <th>6</th>\n",
       "      <td>7</td>\n",
       "      <td>Anson</td>\n",
       "      <td>Male</td>\n",
       "      <td>1994-08-07</td>\n",
       "      <td>30</td>\n",
       "      <td>Premium</td>\n",
       "      <td>3</td>\n",
       "      <td>Mon, Sat, Sun</td>\n",
       "      <td>True</td>\n",
       "      <td>LesMiles, XCore</td>\n",
       "      <td>19:46:00</td>\n",
       "      <td>22:41:00</td>\n",
       "      <td>175</td>\n",
       "      <td>False</td>\n",
       "      <td>NaN</td>\n",
       "    </tr>\n",
       "    <tr>\n",
       "      <th>7</th>\n",
       "      <td>8</td>\n",
       "      <td>Uriah</td>\n",
       "      <td>Male</td>\n",
       "      <td>2003-11-13</td>\n",
       "      <td>20</td>\n",
       "      <td>Standard</td>\n",
       "      <td>2</td>\n",
       "      <td>Sat, Sun</td>\n",
       "      <td>True</td>\n",
       "      <td>Yoga, BodyPump, Running</td>\n",
       "      <td>17:45:00</td>\n",
       "      <td>18:53:00</td>\n",
       "      <td>68</td>\n",
       "      <td>False</td>\n",
       "      <td>NaN</td>\n",
       "    </tr>\n",
       "    <tr>\n",
       "      <th>8</th>\n",
       "      <td>9</td>\n",
       "      <td>Borden</td>\n",
       "      <td>Male</td>\n",
       "      <td>1978-07-28</td>\n",
       "      <td>46</td>\n",
       "      <td>Premium</td>\n",
       "      <td>3</td>\n",
       "      <td>Mon, Tue, Wed</td>\n",
       "      <td>True</td>\n",
       "      <td>BodyPump</td>\n",
       "      <td>09:45:00</td>\n",
       "      <td>12:33:00</td>\n",
       "      <td>168</td>\n",
       "      <td>True</td>\n",
       "      <td>Mike</td>\n",
       "    </tr>\n",
       "    <tr>\n",
       "      <th>9</th>\n",
       "      <td>10</td>\n",
       "      <td>Abbye</td>\n",
       "      <td>Female</td>\n",
       "      <td>2000-05-06</td>\n",
       "      <td>24</td>\n",
       "      <td>Premium</td>\n",
       "      <td>1</td>\n",
       "      <td>Mon</td>\n",
       "      <td>False</td>\n",
       "      <td>NaN</td>\n",
       "      <td>13:05:00</td>\n",
       "      <td>13:51:00</td>\n",
       "      <td>46</td>\n",
       "      <td>True</td>\n",
       "      <td>Jeffrey</td>\n",
       "    </tr>\n",
       "  </tbody>\n",
       "</table>\n",
       "</div>"
      ],
      "text/plain": [
       "   id first_name  gender    birthday  Age abonoment_type  visit_per_week  \\\n",
       "0   1        Fey  Female  1997-04-18   27        Premium               4   \n",
       "1   2    Doralin  Female  1977-09-18   47       Standard               3   \n",
       "2   3       Linc    Male  1983-03-30   41        Premium               1   \n",
       "3   4     Darren    Male  1980-04-12   44        Premium               3   \n",
       "4   5       Petr    Male  1980-09-10   44       Standard               2   \n",
       "5   6     Alvera  Female  2009-06-29   15       Standard               1   \n",
       "6   7      Anson    Male  1994-08-07   30        Premium               3   \n",
       "7   8      Uriah    Male  2003-11-13   20       Standard               2   \n",
       "8   9     Borden    Male  1978-07-28   46        Premium               3   \n",
       "9  10      Abbye  Female  2000-05-06   24        Premium               1   \n",
       "\n",
       "        days_per_week  attend_group_lesson           fav_group_lesson  \\\n",
       "0  Mon, Sat, Tue, Wed                 True                  Kickboxen   \n",
       "1       Fri, Sat, Sun                False                        NaN   \n",
       "2                 Sun                 True  XCore, Spinning, LesMiles   \n",
       "3       Fri, Sat, Tue                False                        NaN   \n",
       "4            Thu, Tue                 True       Running, BodyBalance   \n",
       "5                 Tue                False                        NaN   \n",
       "6       Mon, Sat, Sun                 True            LesMiles, XCore   \n",
       "7            Sat, Sun                 True    Yoga, BodyPump, Running   \n",
       "8       Mon, Tue, Wed                 True                   BodyPump   \n",
       "9                 Mon                False                        NaN   \n",
       "\n",
       "  avg_time_check_in avg_time_check_out  avg_time_in_gym  personal_training  \\\n",
       "0          19:31:00           21:42:00              131              False   \n",
       "1          19:31:00           21:43:00              132               True   \n",
       "2          08:29:00           09:55:00               86               True   \n",
       "3          09:54:00           12:15:00              141               True   \n",
       "4          08:29:00           10:39:00              130               True   \n",
       "5          17:19:00           18:19:00               60              False   \n",
       "6          19:46:00           22:41:00              175              False   \n",
       "7          17:45:00           18:53:00               68              False   \n",
       "8          09:45:00           12:33:00              168               True   \n",
       "9          13:05:00           13:51:00               46               True   \n",
       "\n",
       "  name_personal_trainer  \n",
       "0                   NaN  \n",
       "1               Chantal  \n",
       "2                  Mike  \n",
       "3                  Mike  \n",
       "4                  Mike  \n",
       "5                   NaN  \n",
       "6                   NaN  \n",
       "7                   NaN  \n",
       "8                  Mike  \n",
       "9               Jeffrey  "
      ]
     },
     "execution_count": 44,
     "metadata": {},
     "output_type": "execute_result"
    }
   ],
   "source": [
    "df=pd.read_csv(r\"C:\\Users\\moove\\Downloads\\gym_membership.csv\")\n",
    "df.head(10)"
   ]
  },
  {
   "cell_type": "code",
   "execution_count": 46,
   "id": "cd9cf8e5-614a-438a-9eef-f8934b43f51f",
   "metadata": {},
   "outputs": [
    {
     "data": {
      "text/plain": [
       "(1000, 15)"
      ]
     },
     "execution_count": 46,
     "metadata": {},
     "output_type": "execute_result"
    }
   ],
   "source": [
    "df.shape"
   ]
  },
  {
   "cell_type": "code",
   "execution_count": 48,
   "id": "d073b556-4e4a-481a-84ff-a058e8288c9e",
   "metadata": {},
   "outputs": [
    {
     "data": {
      "text/html": [
       "<div>\n",
       "<style scoped>\n",
       "    .dataframe tbody tr th:only-of-type {\n",
       "        vertical-align: middle;\n",
       "    }\n",
       "\n",
       "    .dataframe tbody tr th {\n",
       "        vertical-align: top;\n",
       "    }\n",
       "\n",
       "    .dataframe thead th {\n",
       "        text-align: right;\n",
       "    }\n",
       "</style>\n",
       "<table border=\"1\" class=\"dataframe\">\n",
       "  <thead>\n",
       "    <tr style=\"text-align: right;\">\n",
       "      <th></th>\n",
       "      <th>id</th>\n",
       "      <th>first_name</th>\n",
       "      <th>gender</th>\n",
       "      <th>birthday</th>\n",
       "      <th>Age</th>\n",
       "      <th>abonoment_type</th>\n",
       "      <th>visit_per_week</th>\n",
       "      <th>days_per_week</th>\n",
       "      <th>attend_group_lesson</th>\n",
       "      <th>fav_group_lesson</th>\n",
       "      <th>avg_time_check_in</th>\n",
       "      <th>avg_time_check_out</th>\n",
       "      <th>avg_time_in_gym</th>\n",
       "      <th>personal_training</th>\n",
       "      <th>name_personal_trainer</th>\n",
       "    </tr>\n",
       "  </thead>\n",
       "  <tbody>\n",
       "    <tr>\n",
       "      <th>995</th>\n",
       "      <td>996</td>\n",
       "      <td>Karlen</td>\n",
       "      <td>Female</td>\n",
       "      <td>1984-09-22</td>\n",
       "      <td>40</td>\n",
       "      <td>Standard</td>\n",
       "      <td>3</td>\n",
       "      <td>Mon, Sun, Wed</td>\n",
       "      <td>False</td>\n",
       "      <td>NaN</td>\n",
       "      <td>20:56:00</td>\n",
       "      <td>23:32:00</td>\n",
       "      <td>156</td>\n",
       "      <td>False</td>\n",
       "      <td>NaN</td>\n",
       "    </tr>\n",
       "    <tr>\n",
       "      <th>996</th>\n",
       "      <td>997</td>\n",
       "      <td>Elaina</td>\n",
       "      <td>Female</td>\n",
       "      <td>2008-11-19</td>\n",
       "      <td>15</td>\n",
       "      <td>Standard</td>\n",
       "      <td>3</td>\n",
       "      <td>Fri, Thu, Tue</td>\n",
       "      <td>True</td>\n",
       "      <td>XCore, LesMiles</td>\n",
       "      <td>09:14:00</td>\n",
       "      <td>09:53:00</td>\n",
       "      <td>39</td>\n",
       "      <td>False</td>\n",
       "      <td>NaN</td>\n",
       "    </tr>\n",
       "    <tr>\n",
       "      <th>997</th>\n",
       "      <td>998</td>\n",
       "      <td>Humfried</td>\n",
       "      <td>Male</td>\n",
       "      <td>1984-10-05</td>\n",
       "      <td>39</td>\n",
       "      <td>Standard</td>\n",
       "      <td>2</td>\n",
       "      <td>Fri, Mon</td>\n",
       "      <td>False</td>\n",
       "      <td>NaN</td>\n",
       "      <td>17:21:00</td>\n",
       "      <td>19:04:00</td>\n",
       "      <td>103</td>\n",
       "      <td>True</td>\n",
       "      <td>Jeffrey</td>\n",
       "    </tr>\n",
       "    <tr>\n",
       "      <th>998</th>\n",
       "      <td>999</td>\n",
       "      <td>Brigg</td>\n",
       "      <td>Male</td>\n",
       "      <td>2001-02-22</td>\n",
       "      <td>23</td>\n",
       "      <td>Standard</td>\n",
       "      <td>4</td>\n",
       "      <td>Fri, Mon, Sat, Tue</td>\n",
       "      <td>True</td>\n",
       "      <td>HIT, XCore</td>\n",
       "      <td>10:23:00</td>\n",
       "      <td>13:15:00</td>\n",
       "      <td>172</td>\n",
       "      <td>True</td>\n",
       "      <td>Jeffrey</td>\n",
       "    </tr>\n",
       "    <tr>\n",
       "      <th>999</th>\n",
       "      <td>1000</td>\n",
       "      <td>Norrie</td>\n",
       "      <td>Female</td>\n",
       "      <td>2006-05-07</td>\n",
       "      <td>18</td>\n",
       "      <td>Premium</td>\n",
       "      <td>2</td>\n",
       "      <td>Sun, Tue</td>\n",
       "      <td>False</td>\n",
       "      <td>NaN</td>\n",
       "      <td>16:41:00</td>\n",
       "      <td>19:13:00</td>\n",
       "      <td>152</td>\n",
       "      <td>False</td>\n",
       "      <td>NaN</td>\n",
       "    </tr>\n",
       "  </tbody>\n",
       "</table>\n",
       "</div>"
      ],
      "text/plain": [
       "       id first_name  gender    birthday  Age abonoment_type  visit_per_week  \\\n",
       "995   996     Karlen  Female  1984-09-22   40       Standard               3   \n",
       "996   997     Elaina  Female  2008-11-19   15       Standard               3   \n",
       "997   998   Humfried    Male  1984-10-05   39       Standard               2   \n",
       "998   999      Brigg    Male  2001-02-22   23       Standard               4   \n",
       "999  1000     Norrie  Female  2006-05-07   18        Premium               2   \n",
       "\n",
       "          days_per_week  attend_group_lesson fav_group_lesson  \\\n",
       "995       Mon, Sun, Wed                False              NaN   \n",
       "996       Fri, Thu, Tue                 True  XCore, LesMiles   \n",
       "997            Fri, Mon                False              NaN   \n",
       "998  Fri, Mon, Sat, Tue                 True       HIT, XCore   \n",
       "999            Sun, Tue                False              NaN   \n",
       "\n",
       "    avg_time_check_in avg_time_check_out  avg_time_in_gym  personal_training  \\\n",
       "995          20:56:00           23:32:00              156              False   \n",
       "996          09:14:00           09:53:00               39              False   \n",
       "997          17:21:00           19:04:00              103               True   \n",
       "998          10:23:00           13:15:00              172               True   \n",
       "999          16:41:00           19:13:00              152              False   \n",
       "\n",
       "    name_personal_trainer  \n",
       "995                   NaN  \n",
       "996                   NaN  \n",
       "997               Jeffrey  \n",
       "998               Jeffrey  \n",
       "999                   NaN  "
      ]
     },
     "execution_count": 48,
     "metadata": {},
     "output_type": "execute_result"
    }
   ],
   "source": [
    "df.tail()"
   ]
  },
  {
   "cell_type": "code",
   "execution_count": 50,
   "id": "63c9e9e7-6100-4632-bfba-f6a52eb7eb42",
   "metadata": {},
   "outputs": [
    {
     "name": "stdout",
     "output_type": "stream",
     "text": [
      "<class 'pandas.core.frame.DataFrame'>\n",
      "RangeIndex: 1000 entries, 0 to 999\n",
      "Data columns (total 15 columns):\n",
      " #   Column                 Non-Null Count  Dtype \n",
      "---  ------                 --------------  ----- \n",
      " 0   id                     1000 non-null   int64 \n",
      " 1   first_name             1000 non-null   object\n",
      " 2   gender                 1000 non-null   object\n",
      " 3   birthday               1000 non-null   object\n",
      " 4   Age                    1000 non-null   int64 \n",
      " 5   abonoment_type         1000 non-null   object\n",
      " 6   visit_per_week         1000 non-null   int64 \n",
      " 7   days_per_week          1000 non-null   object\n",
      " 8   attend_group_lesson    1000 non-null   bool  \n",
      " 9   fav_group_lesson       503 non-null    object\n",
      " 10  avg_time_check_in      1000 non-null   object\n",
      " 11  avg_time_check_out     1000 non-null   object\n",
      " 12  avg_time_in_gym        1000 non-null   int64 \n",
      " 13  personal_training      1000 non-null   bool  \n",
      " 14  name_personal_trainer  518 non-null    object\n",
      "dtypes: bool(2), int64(4), object(9)\n",
      "memory usage: 103.6+ KB\n"
     ]
    }
   ],
   "source": [
    "df.info()"
   ]
  },
  {
   "cell_type": "code",
   "execution_count": 52,
   "id": "b064ae80-332b-4c83-b13d-79ecf814617f",
   "metadata": {},
   "outputs": [
    {
     "data": {
      "text/plain": [
       "id                        int64\n",
       "first_name               object\n",
       "gender                   object\n",
       "birthday                 object\n",
       "Age                       int64\n",
       "abonoment_type           object\n",
       "visit_per_week            int64\n",
       "days_per_week            object\n",
       "attend_group_lesson        bool\n",
       "fav_group_lesson         object\n",
       "avg_time_check_in        object\n",
       "avg_time_check_out       object\n",
       "avg_time_in_gym           int64\n",
       "personal_training          bool\n",
       "name_personal_trainer    object\n",
       "dtype: object"
      ]
     },
     "execution_count": 52,
     "metadata": {},
     "output_type": "execute_result"
    }
   ],
   "source": [
    "df.dtypes"
   ]
  },
  {
   "cell_type": "code",
   "execution_count": 54,
   "id": "659cb1bc-2e2b-4144-9ded-b51800cb64ec",
   "metadata": {},
   "outputs": [
    {
     "data": {
      "text/html": [
       "<div>\n",
       "<style scoped>\n",
       "    .dataframe tbody tr th:only-of-type {\n",
       "        vertical-align: middle;\n",
       "    }\n",
       "\n",
       "    .dataframe tbody tr th {\n",
       "        vertical-align: top;\n",
       "    }\n",
       "\n",
       "    .dataframe thead th {\n",
       "        text-align: right;\n",
       "    }\n",
       "</style>\n",
       "<table border=\"1\" class=\"dataframe\">\n",
       "  <thead>\n",
       "    <tr style=\"text-align: right;\">\n",
       "      <th></th>\n",
       "      <th>id</th>\n",
       "      <th>Age</th>\n",
       "      <th>visit_per_week</th>\n",
       "      <th>avg_time_in_gym</th>\n",
       "    </tr>\n",
       "  </thead>\n",
       "  <tbody>\n",
       "    <tr>\n",
       "      <th>count</th>\n",
       "      <td>1000.000000</td>\n",
       "      <td>1000.000000</td>\n",
       "      <td>1000.000000</td>\n",
       "      <td>1000.000000</td>\n",
       "    </tr>\n",
       "    <tr>\n",
       "      <th>mean</th>\n",
       "      <td>500.500000</td>\n",
       "      <td>30.564000</td>\n",
       "      <td>2.682000</td>\n",
       "      <td>101.600000</td>\n",
       "    </tr>\n",
       "    <tr>\n",
       "      <th>std</th>\n",
       "      <td>288.819436</td>\n",
       "      <td>10.821322</td>\n",
       "      <td>1.241941</td>\n",
       "      <td>43.853656</td>\n",
       "    </tr>\n",
       "    <tr>\n",
       "      <th>min</th>\n",
       "      <td>1.000000</td>\n",
       "      <td>12.000000</td>\n",
       "      <td>1.000000</td>\n",
       "      <td>30.000000</td>\n",
       "    </tr>\n",
       "    <tr>\n",
       "      <th>25%</th>\n",
       "      <td>250.750000</td>\n",
       "      <td>21.000000</td>\n",
       "      <td>2.000000</td>\n",
       "      <td>62.000000</td>\n",
       "    </tr>\n",
       "    <tr>\n",
       "      <th>50%</th>\n",
       "      <td>500.500000</td>\n",
       "      <td>30.000000</td>\n",
       "      <td>3.000000</td>\n",
       "      <td>101.500000</td>\n",
       "    </tr>\n",
       "    <tr>\n",
       "      <th>75%</th>\n",
       "      <td>750.250000</td>\n",
       "      <td>40.000000</td>\n",
       "      <td>3.000000</td>\n",
       "      <td>139.000000</td>\n",
       "    </tr>\n",
       "    <tr>\n",
       "      <th>max</th>\n",
       "      <td>1000.000000</td>\n",
       "      <td>49.000000</td>\n",
       "      <td>5.000000</td>\n",
       "      <td>180.000000</td>\n",
       "    </tr>\n",
       "  </tbody>\n",
       "</table>\n",
       "</div>"
      ],
      "text/plain": [
       "                id          Age  visit_per_week  avg_time_in_gym\n",
       "count  1000.000000  1000.000000     1000.000000      1000.000000\n",
       "mean    500.500000    30.564000        2.682000       101.600000\n",
       "std     288.819436    10.821322        1.241941        43.853656\n",
       "min       1.000000    12.000000        1.000000        30.000000\n",
       "25%     250.750000    21.000000        2.000000        62.000000\n",
       "50%     500.500000    30.000000        3.000000       101.500000\n",
       "75%     750.250000    40.000000        3.000000       139.000000\n",
       "max    1000.000000    49.000000        5.000000       180.000000"
      ]
     },
     "execution_count": 54,
     "metadata": {},
     "output_type": "execute_result"
    }
   ],
   "source": [
    "df.describe()"
   ]
  },
  {
   "cell_type": "code",
   "execution_count": 56,
   "id": "fefc13d2-bd25-411e-b55e-3222035fd584",
   "metadata": {},
   "outputs": [
    {
     "data": {
      "text/html": [
       "<div>\n",
       "<style scoped>\n",
       "    .dataframe tbody tr th:only-of-type {\n",
       "        vertical-align: middle;\n",
       "    }\n",
       "\n",
       "    .dataframe tbody tr th {\n",
       "        vertical-align: top;\n",
       "    }\n",
       "\n",
       "    .dataframe thead th {\n",
       "        text-align: right;\n",
       "    }\n",
       "</style>\n",
       "<table border=\"1\" class=\"dataframe\">\n",
       "  <thead>\n",
       "    <tr style=\"text-align: right;\">\n",
       "      <th></th>\n",
       "      <th>id</th>\n",
       "      <th>first_name</th>\n",
       "      <th>gender</th>\n",
       "      <th>birthday</th>\n",
       "      <th>Age</th>\n",
       "      <th>abonoment_type</th>\n",
       "      <th>visit_per_week</th>\n",
       "      <th>days_per_week</th>\n",
       "      <th>attend_group_lesson</th>\n",
       "      <th>fav_group_lesson</th>\n",
       "      <th>avg_time_check_in</th>\n",
       "      <th>avg_time_check_out</th>\n",
       "      <th>avg_time_in_gym</th>\n",
       "      <th>personal_training</th>\n",
       "      <th>name_personal_trainer</th>\n",
       "    </tr>\n",
       "  </thead>\n",
       "  <tbody>\n",
       "    <tr>\n",
       "      <th>count</th>\n",
       "      <td>1000.000000</td>\n",
       "      <td>1000</td>\n",
       "      <td>1000</td>\n",
       "      <td>1000</td>\n",
       "      <td>1000.000000</td>\n",
       "      <td>1000</td>\n",
       "      <td>1000.000000</td>\n",
       "      <td>1000</td>\n",
       "      <td>1000</td>\n",
       "      <td>503</td>\n",
       "      <td>1000</td>\n",
       "      <td>1000</td>\n",
       "      <td>1000.000000</td>\n",
       "      <td>1000</td>\n",
       "      <td>518</td>\n",
       "    </tr>\n",
       "    <tr>\n",
       "      <th>unique</th>\n",
       "      <td>NaN</td>\n",
       "      <td>936</td>\n",
       "      <td>2</td>\n",
       "      <td>974</td>\n",
       "      <td>NaN</td>\n",
       "      <td>2</td>\n",
       "      <td>NaN</td>\n",
       "      <td>117</td>\n",
       "      <td>2</td>\n",
       "      <td>258</td>\n",
       "      <td>556</td>\n",
       "      <td>599</td>\n",
       "      <td>NaN</td>\n",
       "      <td>2</td>\n",
       "      <td>4</td>\n",
       "    </tr>\n",
       "    <tr>\n",
       "      <th>top</th>\n",
       "      <td>NaN</td>\n",
       "      <td>Thorsten</td>\n",
       "      <td>Female</td>\n",
       "      <td>1999-12-08</td>\n",
       "      <td>NaN</td>\n",
       "      <td>Standard</td>\n",
       "      <td>NaN</td>\n",
       "      <td>Sat</td>\n",
       "      <td>True</td>\n",
       "      <td>XCore</td>\n",
       "      <td>17:57:00</td>\n",
       "      <td>11:18:00</td>\n",
       "      <td>NaN</td>\n",
       "      <td>True</td>\n",
       "      <td>Chantal</td>\n",
       "    </tr>\n",
       "    <tr>\n",
       "      <th>freq</th>\n",
       "      <td>NaN</td>\n",
       "      <td>3</td>\n",
       "      <td>503</td>\n",
       "      <td>2</td>\n",
       "      <td>NaN</td>\n",
       "      <td>507</td>\n",
       "      <td>NaN</td>\n",
       "      <td>33</td>\n",
       "      <td>503</td>\n",
       "      <td>19</td>\n",
       "      <td>6</td>\n",
       "      <td>6</td>\n",
       "      <td>NaN</td>\n",
       "      <td>518</td>\n",
       "      <td>153</td>\n",
       "    </tr>\n",
       "    <tr>\n",
       "      <th>mean</th>\n",
       "      <td>500.500000</td>\n",
       "      <td>NaN</td>\n",
       "      <td>NaN</td>\n",
       "      <td>NaN</td>\n",
       "      <td>30.564000</td>\n",
       "      <td>NaN</td>\n",
       "      <td>2.682000</td>\n",
       "      <td>NaN</td>\n",
       "      <td>NaN</td>\n",
       "      <td>NaN</td>\n",
       "      <td>NaN</td>\n",
       "      <td>NaN</td>\n",
       "      <td>101.600000</td>\n",
       "      <td>NaN</td>\n",
       "      <td>NaN</td>\n",
       "    </tr>\n",
       "    <tr>\n",
       "      <th>std</th>\n",
       "      <td>288.819436</td>\n",
       "      <td>NaN</td>\n",
       "      <td>NaN</td>\n",
       "      <td>NaN</td>\n",
       "      <td>10.821322</td>\n",
       "      <td>NaN</td>\n",
       "      <td>1.241941</td>\n",
       "      <td>NaN</td>\n",
       "      <td>NaN</td>\n",
       "      <td>NaN</td>\n",
       "      <td>NaN</td>\n",
       "      <td>NaN</td>\n",
       "      <td>43.853656</td>\n",
       "      <td>NaN</td>\n",
       "      <td>NaN</td>\n",
       "    </tr>\n",
       "    <tr>\n",
       "      <th>min</th>\n",
       "      <td>1.000000</td>\n",
       "      <td>NaN</td>\n",
       "      <td>NaN</td>\n",
       "      <td>NaN</td>\n",
       "      <td>12.000000</td>\n",
       "      <td>NaN</td>\n",
       "      <td>1.000000</td>\n",
       "      <td>NaN</td>\n",
       "      <td>NaN</td>\n",
       "      <td>NaN</td>\n",
       "      <td>NaN</td>\n",
       "      <td>NaN</td>\n",
       "      <td>30.000000</td>\n",
       "      <td>NaN</td>\n",
       "      <td>NaN</td>\n",
       "    </tr>\n",
       "    <tr>\n",
       "      <th>25%</th>\n",
       "      <td>250.750000</td>\n",
       "      <td>NaN</td>\n",
       "      <td>NaN</td>\n",
       "      <td>NaN</td>\n",
       "      <td>21.000000</td>\n",
       "      <td>NaN</td>\n",
       "      <td>2.000000</td>\n",
       "      <td>NaN</td>\n",
       "      <td>NaN</td>\n",
       "      <td>NaN</td>\n",
       "      <td>NaN</td>\n",
       "      <td>NaN</td>\n",
       "      <td>62.000000</td>\n",
       "      <td>NaN</td>\n",
       "      <td>NaN</td>\n",
       "    </tr>\n",
       "    <tr>\n",
       "      <th>50%</th>\n",
       "      <td>500.500000</td>\n",
       "      <td>NaN</td>\n",
       "      <td>NaN</td>\n",
       "      <td>NaN</td>\n",
       "      <td>30.000000</td>\n",
       "      <td>NaN</td>\n",
       "      <td>3.000000</td>\n",
       "      <td>NaN</td>\n",
       "      <td>NaN</td>\n",
       "      <td>NaN</td>\n",
       "      <td>NaN</td>\n",
       "      <td>NaN</td>\n",
       "      <td>101.500000</td>\n",
       "      <td>NaN</td>\n",
       "      <td>NaN</td>\n",
       "    </tr>\n",
       "    <tr>\n",
       "      <th>75%</th>\n",
       "      <td>750.250000</td>\n",
       "      <td>NaN</td>\n",
       "      <td>NaN</td>\n",
       "      <td>NaN</td>\n",
       "      <td>40.000000</td>\n",
       "      <td>NaN</td>\n",
       "      <td>3.000000</td>\n",
       "      <td>NaN</td>\n",
       "      <td>NaN</td>\n",
       "      <td>NaN</td>\n",
       "      <td>NaN</td>\n",
       "      <td>NaN</td>\n",
       "      <td>139.000000</td>\n",
       "      <td>NaN</td>\n",
       "      <td>NaN</td>\n",
       "    </tr>\n",
       "    <tr>\n",
       "      <th>max</th>\n",
       "      <td>1000.000000</td>\n",
       "      <td>NaN</td>\n",
       "      <td>NaN</td>\n",
       "      <td>NaN</td>\n",
       "      <td>49.000000</td>\n",
       "      <td>NaN</td>\n",
       "      <td>5.000000</td>\n",
       "      <td>NaN</td>\n",
       "      <td>NaN</td>\n",
       "      <td>NaN</td>\n",
       "      <td>NaN</td>\n",
       "      <td>NaN</td>\n",
       "      <td>180.000000</td>\n",
       "      <td>NaN</td>\n",
       "      <td>NaN</td>\n",
       "    </tr>\n",
       "  </tbody>\n",
       "</table>\n",
       "</div>"
      ],
      "text/plain": [
       "                 id first_name  gender    birthday          Age  \\\n",
       "count   1000.000000       1000    1000        1000  1000.000000   \n",
       "unique          NaN        936       2         974          NaN   \n",
       "top             NaN   Thorsten  Female  1999-12-08          NaN   \n",
       "freq            NaN          3     503           2          NaN   \n",
       "mean     500.500000        NaN     NaN         NaN    30.564000   \n",
       "std      288.819436        NaN     NaN         NaN    10.821322   \n",
       "min        1.000000        NaN     NaN         NaN    12.000000   \n",
       "25%      250.750000        NaN     NaN         NaN    21.000000   \n",
       "50%      500.500000        NaN     NaN         NaN    30.000000   \n",
       "75%      750.250000        NaN     NaN         NaN    40.000000   \n",
       "max     1000.000000        NaN     NaN         NaN    49.000000   \n",
       "\n",
       "       abonoment_type  visit_per_week days_per_week attend_group_lesson  \\\n",
       "count            1000     1000.000000          1000                1000   \n",
       "unique              2             NaN           117                   2   \n",
       "top          Standard             NaN           Sat                True   \n",
       "freq              507             NaN            33                 503   \n",
       "mean              NaN        2.682000           NaN                 NaN   \n",
       "std               NaN        1.241941           NaN                 NaN   \n",
       "min               NaN        1.000000           NaN                 NaN   \n",
       "25%               NaN        2.000000           NaN                 NaN   \n",
       "50%               NaN        3.000000           NaN                 NaN   \n",
       "75%               NaN        3.000000           NaN                 NaN   \n",
       "max               NaN        5.000000           NaN                 NaN   \n",
       "\n",
       "       fav_group_lesson avg_time_check_in avg_time_check_out  avg_time_in_gym  \\\n",
       "count               503              1000               1000      1000.000000   \n",
       "unique              258               556                599              NaN   \n",
       "top               XCore          17:57:00           11:18:00              NaN   \n",
       "freq                 19                 6                  6              NaN   \n",
       "mean                NaN               NaN                NaN       101.600000   \n",
       "std                 NaN               NaN                NaN        43.853656   \n",
       "min                 NaN               NaN                NaN        30.000000   \n",
       "25%                 NaN               NaN                NaN        62.000000   \n",
       "50%                 NaN               NaN                NaN       101.500000   \n",
       "75%                 NaN               NaN                NaN       139.000000   \n",
       "max                 NaN               NaN                NaN       180.000000   \n",
       "\n",
       "       personal_training name_personal_trainer  \n",
       "count               1000                   518  \n",
       "unique                 2                     4  \n",
       "top                 True               Chantal  \n",
       "freq                 518                   153  \n",
       "mean                 NaN                   NaN  \n",
       "std                  NaN                   NaN  \n",
       "min                  NaN                   NaN  \n",
       "25%                  NaN                   NaN  \n",
       "50%                  NaN                   NaN  \n",
       "75%                  NaN                   NaN  \n",
       "max                  NaN                   NaN  "
      ]
     },
     "execution_count": 56,
     "metadata": {},
     "output_type": "execute_result"
    }
   ],
   "source": [
    "df.describe(include ='all')"
   ]
  },
  {
   "cell_type": "code",
   "execution_count": 58,
   "id": "fb972a51-1bbd-42f5-b8fc-bd9c9eb2f636",
   "metadata": {},
   "outputs": [
    {
     "data": {
      "text/plain": [
       "id                         0\n",
       "first_name                 0\n",
       "gender                     0\n",
       "birthday                   0\n",
       "Age                        0\n",
       "abonoment_type             0\n",
       "visit_per_week             0\n",
       "days_per_week              0\n",
       "attend_group_lesson        0\n",
       "fav_group_lesson         497\n",
       "avg_time_check_in          0\n",
       "avg_time_check_out         0\n",
       "avg_time_in_gym            0\n",
       "personal_training          0\n",
       "name_personal_trainer    482\n",
       "dtype: int64"
      ]
     },
     "execution_count": 58,
     "metadata": {},
     "output_type": "execute_result"
    }
   ],
   "source": [
    "df.isna().sum()"
   ]
  },
  {
   "cell_type": "markdown",
   "id": "cbdc6172-d662-4ea2-9e68-6acba0d4dca9",
   "metadata": {},
   "source": [
    "# DATA PREPROCESSING"
   ]
  },
  {
   "cell_type": "code",
   "execution_count": 61,
   "id": "88d1bcea-b1e8-4b31-bfb9-b11c8d91bbf9",
   "metadata": {},
   "outputs": [
    {
     "data": {
      "text/plain": [
       "Index(['id', 'first_name', 'gender', 'birthday', 'Age', 'abonoment_type',\n",
       "       'visit_per_week', 'days_per_week', 'attend_group_lesson',\n",
       "       'fav_group_lesson', 'avg_time_check_in', 'avg_time_check_out',\n",
       "       'avg_time_in_gym', 'personal_training', 'name_personal_trainer'],\n",
       "      dtype='object')"
      ]
     },
     "execution_count": 61,
     "metadata": {},
     "output_type": "execute_result"
    }
   ],
   "source": [
    "df.columns"
   ]
  },
  {
   "cell_type": "code",
   "execution_count": 63,
   "id": "cdee904c-80a2-4d9b-a49d-90b881f2c4d5",
   "metadata": {},
   "outputs": [],
   "source": [
    "df['fav_group_lesson'].fillna('Unknown',inplace =True)  \n",
    "df['name_personal_trainer'].fillna('Unknown',inplace =True)  \n"
   ]
  },
  {
   "cell_type": "code",
   "execution_count": 65,
   "id": "12f2833b-4ad3-4a9b-8868-b42102ebd3c0",
   "metadata": {},
   "outputs": [
    {
     "data": {
      "text/plain": [
       "id                       0\n",
       "first_name               0\n",
       "gender                   0\n",
       "birthday                 0\n",
       "Age                      0\n",
       "abonoment_type           0\n",
       "visit_per_week           0\n",
       "days_per_week            0\n",
       "attend_group_lesson      0\n",
       "fav_group_lesson         0\n",
       "avg_time_check_in        0\n",
       "avg_time_check_out       0\n",
       "avg_time_in_gym          0\n",
       "personal_training        0\n",
       "name_personal_trainer    0\n",
       "dtype: int64"
      ]
     },
     "execution_count": 65,
     "metadata": {},
     "output_type": "execute_result"
    }
   ],
   "source": [
    "df.isna().sum()"
   ]
  },
  {
   "cell_type": "code",
   "execution_count": 67,
   "id": "edcced9e-89c2-40ed-a0b9-5eb1a88b3b49",
   "metadata": {},
   "outputs": [
    {
     "data": {
      "text/plain": [
       "0      False\n",
       "1      False\n",
       "2      False\n",
       "3      False\n",
       "4      False\n",
       "       ...  \n",
       "995    False\n",
       "996    False\n",
       "997    False\n",
       "998    False\n",
       "999    False\n",
       "Length: 1000, dtype: bool"
      ]
     },
     "execution_count": 67,
     "metadata": {},
     "output_type": "execute_result"
    }
   ],
   "source": [
    "df.duplicated()"
   ]
  },
  {
   "cell_type": "code",
   "execution_count": 97,
   "id": "0ca03fa7-5f73-4741-9de4-04cb3a918822",
   "metadata": {},
   "outputs": [
    {
     "data": {
      "text/plain": [
       "0"
      ]
     },
     "execution_count": 97,
     "metadata": {},
     "output_type": "execute_result"
    }
   ],
   "source": [
    "df.duplicated().sum()"
   ]
  },
  {
   "cell_type": "code",
   "execution_count": 69,
   "id": "68d96486-26ec-483d-90cd-5d60cecaaf9e",
   "metadata": {},
   "outputs": [
    {
     "data": {
      "image/png": "[encoded data removed]",
      "text/plain": [
       "<Figure size 640x480 with 1 Axes>"
      ]
     },
     "metadata": {},
     "output_type": "display_data"
    }
   ],
   "source": [
    "sns.histplot(df['Age'], bins=20, kde=True ,color='coral')\n",
    "plt.title('Distribution of Age')\n",
    "plt.xlabel('AGE')\n",
    "plt.ylabel('COUNT')\n",
    "plt.show()"
   ]
  },
  {
   "cell_type": "code",
   "execution_count": 71,
   "id": "46eef3e5-c12f-42ac-bd33-5eb0736e7319",
   "metadata": {},
   "outputs": [
    {
     "data": {
      "text/plain": [
       "Text(0, 0.5, 'Count')"
      ]
     },
     "execution_count": 71,
     "metadata": {},
     "output_type": "execute_result"
    },
    {
     "data": {
      "image/png": "[encoded data removed]",
      "text/plain": [
       "<Figure size 640x480 with 1 Axes>"
      ]
     },
     "metadata": {},
     "output_type": "display_data"
    }
   ],
   "source": [
    "sns.histplot(df['visit_per_week'], bins=5, kde=True,color='green')\n",
    "plt.title('Distribution of Visits per Week')\n",
    "plt.xlabel('Per week')\n",
    "plt.ylabel('Count')\n"
   ]
  },
  {
   "cell_type": "code",
   "execution_count": 73,
   "id": "207b27d1-263f-4a39-85cf-26945b39cfee",
   "metadata": {},
   "outputs": [
    {
     "data": {
      "image/png": "[encoded data removed]",
      "text/plain": [
       "<Figure size 1000x600 with 1 Axes>"
      ]
     },
     "metadata": {},
     "output_type": "display_data"
    }
   ],
   "source": [
    "plt.figure(figsize=(10, 6))\n",
    "sns.countplot(x='name_personal_trainer', data=df, palette=\"Set2\")\n",
    "plt.title('Number of Members per Personal Trainer', fontsize=16)\n",
    "plt.xlabel('Personal Trainer', fontsize=12)\n",
    "plt.ylabel('Number of Members', fontsize=12)\n",
    "plt.xticks(rotation=45, ha='right')\n",
    "plt.show()\n"
   ]
  },
  {
   "cell_type": "code",
   "execution_count": 75,
   "id": "804678bc-214a-4d56-b990-adb6e6907e26",
   "metadata": {},
   "outputs": [
    {
     "data": {
      "image/png": "[encoded data removed]",
      "text/plain": [
       "<Figure size 1000x600 with 1 Axes>"
      ]
     },
     "metadata": {},
     "output_type": "display_data"
    }
   ],
   "source": [
    "plt.figure(figsize=(10, 6))\n",
    "sns.scatterplot(y='Age', x='visit_per_week', hue='abonoment_type', data=df, palette=\"Set2\")\n",
    "plt.title('Age vs Visits per Week by Membership Type')\n",
    "plt.xlabel('visit_per_week')\n",
    "plt.ylabel('Age')\n",
    "plt.legend(title='Membership Type')\n",
    "plt.show()"
   ]
  },
  {
   "cell_type": "code",
   "execution_count": 77,
   "id": "3420668e-3fcd-4373-9cb2-a68c227eeee8",
   "metadata": {},
   "outputs": [
    {
     "data": {
      "image/png": "[encoded data removed]",
      "text/plain": [
       "<Figure size 500x500 with 1 Axes>"
      ]
     },
     "metadata": {},
     "output_type": "display_data"
    }
   ],
   "source": [
    "gender_counts = df['gender'].value_counts()\n",
    "plt.figure(figsize=(5, 5))\n",
    "plt.pie(gender_counts,labels=gender_counts.index,autopct='%1.1f%%')\n",
    "plt.title('Gender Distribution in Gym') \n",
    "plt.show()\n"
   ]
  },
  {
   "cell_type": "code",
   "execution_count": 79,
   "id": "628da8c0-0993-42b4-984b-e062a4833610",
   "metadata": {},
   "outputs": [
    {
     "data": {
      "image/png": "[encoded data removed]",
      "text/plain": [
       "<Figure size 800x400 with 1 Axes>"
      ]
     },
     "metadata": {},
     "output_type": "display_data"
    }
   ],
   "source": [
    "plt.figure(figsize=(8,4))\n",
    "sns.countplot(x='personal_training', data=df, palette=\"Set3\")\n",
    "plt.title('Number of Members per Personal Trainer')\n",
    "plt.xlabel('Personal Trainer')\n",
    "plt.ylabel('Number of Members')\n",
    "plt.show()"
   ]
  },
  {
   "cell_type": "markdown",
   "id": "4b78775f-4e44-45d8-ad30-0b76ebb43aee",
   "metadata": {},
   "source": [
    "# Chi-Square Test"
   ]
  },
  {
   "cell_type": "code",
   "execution_count": 82,
   "id": "eeaf6c78-cef0-4cde-8f8e-334e9c852cfc",
   "metadata": {},
   "outputs": [
    {
     "name": "stdout",
     "output_type": "stream",
     "text": [
      "Chi-Square Statistic: 2.3278832879297955\n",
      "p-value: 0.12707456809898068\n"
     ]
    }
   ],
   "source": [
    "#Gender vs Personal Training:\n",
    "data= pd.crosstab(df['gender'], df['personal_training'])\n",
    "chi2_stat, p_value, dof, expected = chi2_contingency(data)\n",
    "\n",
    "print(f\"Chi-Square Statistic: {chi2_stat}\")\n",
    "print(f\"p-value: {p_value}\")"
   ]
  },
  {
   "cell_type": "code",
   "execution_count": 84,
   "id": "3f3988ed-967a-4545-ab5c-8ea21acf8524",
   "metadata": {},
   "outputs": [
    {
     "name": "stdout",
     "output_type": "stream",
     "text": [
      "Fail to reject the null hypothesis\n"
     ]
    }
   ],
   "source": [
    "if p_value >0.05:\n",
    "    print(\"Fail to reject the null hypothesis\")\n",
    "else:\n",
    "    print(\"reject the null hypothesis\")"
   ]
  },
  {
   "cell_type": "markdown",
   "id": "5165cb15-03ce-4236-9e5d-6fe2bbb274e2",
   "metadata": {},
   "source": [
    "# One-Way ANOVA test"
   ]
  },
  {
   "cell_type": "code",
   "execution_count": 93,
   "id": "53a4dee6-44d5-4cc1-b49a-0d066dc69867",
   "metadata": {},
   "outputs": [
    {
     "data": {
      "text/plain": [
       "(0.3670293998183652, 0.5447657229275078)"
      ]
     },
     "execution_count": 93,
     "metadata": {},
     "output_type": "execute_result"
    }
   ],
   "source": [
    "data = df[['gender', 'avg_time_in_gym']]\n",
    "Male_group = data['avg_time_in_gym'][data['gender'] == 'Male']\n",
    "female_group = data['avg_time_in_gym'][data['gender'] == 'Female']\n",
    "\n",
    "f_stat, p_value = stats.f_oneway(Male_group, female_group)\n",
    "f_stat, p_value\n"
   ]
  },
  {
   "cell_type": "code",
   "execution_count": 95,
   "id": "a802e0ef-000a-4b93-b409-d3e66a663818",
   "metadata": {},
   "outputs": [
    {
     "name": "stdout",
     "output_type": "stream",
     "text": [
      "Fail to reject the null hypothesis\n"
     ]
    }
   ],
   "source": [
    "if p_value >0.05:\n",
    "    print(\"Fail to reject the null hypothesis\")\n",
    "else:\n",
    "    print(\"reject the null hypothesis\")"
   ]
  },
  {
   "cell_type": "code",
   "execution_count": null,
   "id": "dbf752d3-ca1d-4d03-abc1-70894b341fe3",
   "metadata": {},
   "outputs": [],
   "source": []
  }
 ],
 "metadata": {
  "kernelspec": {
   "display_name": "Python 3 (ipykernel)",
   "language": "python",
   "name": "python3"
  },
  "language_info": {
   "codemirror_mode": {
    "name": "ipython",
    "version": 3
   },
   "file_extension": ".py",
   "mimetype": "text/x-python",
   "name": "python",
   "nbconvert_exporter": "python",
   "pygments_lexer": "ipython3",
   "version": "3.11.7"
  }
 },
 "nbformat": 4,
 "nbformat_minor": 5
}
